{
  "cells": [
    {
      "cell_type": "markdown",
      "metadata": {
        "id": "657xsoB8y3cB"
      },
      "source": [
        "# Redes Neurais Para Finanças\n",
        "#### by Maycon Cypriano Batestin"
      ]
    },
    {
      "cell_type": "markdown",
      "metadata": {
        "id": "xUMrbi7a0cof"
      },
      "source": [
        "# Dicionário\n",
        "\n",
        "\n",
        "Fields\t                                                  | Type  \t  |    Description                              |\n",
        "----------------------------------------------------------|:---------:|:-------------------------------------------:|\n",
        "Date \t  \t\t\t\t\t\t\t\t\t\t  \t  |string     | Data da alteração |\n",
        "Open\t\t\t\t\t\t\t\t\t\t\t\t\t\t  |float    | preço da abertura                        |\n",
        "High\t\t     \t\t\t\t\t\t\t\t\t\t  |float     | preço mais alto no dia\t               |\n",
        "Low | float | preco mais baixo no dia\n",
        "Close | float | preco de fechamento\n",
        "Adj Close | float | preco de fechamento, com ajustes de distribuições de dividendos e/ou ganhos de capital.\n",
        "Volume | float | Volume total do dia\n",
        "  "
      ]
    },
    {
      "cell_type": "markdown",
      "metadata": {
        "id": "2aFxkj2N0dj3"
      },
      "source": [
        "# Instalando os pacotes"
      ]
    },
    {
      "cell_type": "code",
      "execution_count": null,
      "metadata": {
        "id": "j3pnNx_I0j_T"
      },
      "outputs": [],
      "source": [
        "!pip install pandas numpy scikit-learn keras matplotlib plotly yfinance\n"
      ]
    },
    {
      "cell_type": "markdown",
      "metadata": {
        "id": "FS4zGUW_0mg0"
      },
      "source": [
        "# Documentação\n",
        "\n",
        "1. ** Pandas ** -> [Link](https://pandas.pydata.org/docs/)\n",
        "2. ** Numpy ** -> [Link](https://numpy.org/doc/)\n",
        "4. ** Scikit Learn ** -> [Link](https://scikit-learn.org/stable/)\n",
        "5. ** Keras ** -> [Link](https://keras.io/api/)\n",
        "6. ** Tensor Flow ** -> [Tensor Flow](https://www.tensorflow.org/api_docs/python/tf/keras)\n",
        "\n",
        "7. ** yfinance ** >[Link](https://pypi.org/project/yfinance/)\n",
        "\n",
        "8. ** Plotly ** > [Link](https://plotly.com/python/statistical-charts/)"
      ]
    },
    {
      "cell_type": "markdown",
      "metadata": {
        "id": "G8zwcXXpWdx0"
      },
      "source": [
        "# Etapas\n",
        "\n",
        "- **Coletar Dados**\n",
        "  - Recolher dados brutos de várias fontes\n",
        "- **Analisar os Dados**\n",
        "  - Explorar os dados para identificar padrões e anomalias\n",
        "- **Preparar os Dados**\n",
        "  - Limpar e transformar os dados para torná-los utilizáveis\n",
        "- **Treinar os Dados**\n",
        "  - Usar os dados preparados para treinar o modelo de machine learning\n",
        "- **Testar os Dados**\n",
        "  - Testar o modelo treinado com um conjunto de dados de teste\n",
        "- **Avaliar o Modelo**\n",
        "  - Avaliar o desempenho do modelo e ajustar conforme necessário\n"
      ]
    },
    {
      "cell_type": "markdown",
      "metadata": {
        "id": "_x1_XfCf0k-n"
      },
      "source": [
        "# Obtendo o dataset"
      ]
    },
    {
      "cell_type": "code",
      "execution_count": null,
      "metadata": {
        "colab": {
          "base_uri": "https://localhost:8080/"
        },
        "id": "StBsIgZ2xLng",
        "outputId": "6ad9ef5c-fadb-443b-9925-a6b40f57d179"
      },
      "outputs": [],
      "source": [
        "#obtendo o dataset"
      ]
    },
    {
      "cell_type": "markdown",
      "metadata": {
        "id": "yJBaC6kO2LlM"
      },
      "source": [
        "# Análise Exploratória"
      ]
    },
    {
      "cell_type": "code",
      "execution_count": null,
      "metadata": {
        "colab": {
          "base_uri": "https://localhost:8080/",
          "height": 149
        },
        "id": "_23XSO_xaN1C",
        "outputId": "f8949d02-0b30-49aa-e293-e2ba944ff800"
      },
      "outputs": [],
      "source": [
        "#visualzando o dataset"
      ]
    },
    {
      "cell_type": "markdown",
      "metadata": {
        "id": "eFX5vORC7qVR"
      },
      "source": [
        "# Preparando os Dados"
      ]
    },
    {
      "cell_type": "code",
      "execution_count": null,
      "metadata": {
        "id": "eC167tr2-ufn"
      },
      "outputs": [],
      "source": [
        "# preparando os dataset"
      ]
    },
    {
      "cell_type": "markdown",
      "metadata": {
        "id": "BfJFPR1CAKgA"
      },
      "source": [
        "#  Treino\n"
      ]
    },
    {
      "cell_type": "code",
      "execution_count": null,
      "metadata": {
        "id": "UDLEBjc_owqJ"
      },
      "outputs": [],
      "source": [
        "# Treinando a rede neural"
      ]
    },
    {
      "cell_type": "markdown",
      "metadata": {
        "id": "0v7Lj7ntcScu"
      },
      "source": [
        "# Teste"
      ]
    },
    {
      "cell_type": "code",
      "execution_count": null,
      "metadata": {
        "id": "IeESpUsaBBwE"
      },
      "outputs": [],
      "source": [
        "# Testando "
      ]
    },
    {
      "cell_type": "markdown",
      "metadata": {
        "id": "Xize_IWOCPEU"
      },
      "source": [
        "# Avaliação de Resultados"
      ]
    },
    {
      "cell_type": "code",
      "execution_count": null,
      "metadata": {},
      "outputs": [],
      "source": [
        "# avaliando os resultados"
      ]
    }
  ],
  "metadata": {
    "colab": {
      "provenance": []
    },
    "kernelspec": {
      "display_name": "Python 3",
      "name": "python3"
    },
    "language_info": {
      "name": "python"
    }
  },
  "nbformat": 4,
  "nbformat_minor": 0
}
